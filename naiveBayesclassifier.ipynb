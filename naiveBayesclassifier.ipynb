{
 "cells": [
  {
   "cell_type": "markdown",
   "metadata": {},
   "source": [
    "Naive Bayes classifiers are a family of classifiers that are quite similar to the linear\n",
    "models discussed in the previous section. However, they tend to be even faster in\n",
    "training. The price paid for this efficiency is that naive Bayes models often provide\n",
    "generalization performance that is slightly worse than that of linear classifiers like\n",
    "LogisticRegression and LinearSVC"
   ]
  },
  {
   "cell_type": "markdown",
   "metadata": {},
   "source": [
    "The reason that naive Bayes models are so efficient is that they learn parameters by\n",
    "looking at each feature individually and collect simple per-class statistics from each\n",
    "feature."
   ]
  },
  {
   "cell_type": "markdown",
   "metadata": {},
   "source": [
    " GaussianNB can be applied to\n",
    "any continuous data, while BernoulliNB assumes binary data and MultinomialNB\n",
    "assumes count data (that is, that each feature represents an integer count of some‐\n",
    "thing, like how often a word appears in a sentence). BernoulliNB and MultinomialNB\n",
    "are mostly used in text data classification"
   ]
  },
  {
   "cell_type": "markdown",
   "metadata": {},
   "source": [
    "The BernoulliNB classifier counts how often every feature of each class is not zero\n",
    "The other two naive Bayes models, MultinomialNB and GaussianNB, are slightly dif‐\n",
    "ferent in what kinds of statistics they compute. MultinomialNB takes into account the\n",
    "average value of each feature for each class, while GaussianNB stores the average value\n",
    "as well as the standard deviation of each feature for each class.\n",
    "To make a prediction, a data point is compared to the statistics for each of the classes,\n",
    "and the best matching class is predicted. Interestingly, for both MultinomialNB and\n",
    "BernoulliNB, this leads to a prediction formula that is of the same form as in the lin‐\n",
    "ear models "
   ]
  },
  {
   "cell_type": "code",
   "execution_count": null,
   "metadata": {
    "vscode": {
     "languageId": "plaintext"
    }
   },
   "outputs": [],
   "source": [
    "MultinomialNB and BernoulliNB have a single parameter, alpha, which controls\n",
    "model complexity. The way alpha works is that the algorithm adds to the data alpha\n",
    "many virtual data points that have positive values for all the features. This results in a\n",
    "“smoothing” of the statistics. A large alpha means more smoothing, resulting in less\n",
    "complex models. The algorithm’s performance is relatively robust to the setting of\n",
    "alpha, meaning that setting alpha is not critical for good performance. However,\n",
    "tuning it usually improves accuracy somewhat."
   ]
  }
 ],
 "metadata": {
  "language_info": {
   "name": "python"
  }
 },
 "nbformat": 4,
 "nbformat_minor": 2
}
